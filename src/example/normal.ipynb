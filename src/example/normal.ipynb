{
 "cells": [
  {
   "cell_type": "code",
   "execution_count": null,
   "id": "8737bad2-ce24-4658-a55b-8dc2610aacc0",
   "metadata": {},
   "outputs": [],
   "source": [
    "# Scientific and vector computation for python\n",
    "import numpy as np\n",
    "\n",
    "# data analysis and manipulation tool for python\n",
    "import pandas as pd\n",
    "\n",
    "# Plotting library\n",
    "import matplotlib.pyplot as plt\n",
    "\n",
    "# tells matplotlib to embed plots within the notebook\n",
    "%matplotlib inline"
   ]
  },
  {
   "cell_type": "code",
   "execution_count": null,
   "id": "4c9e7c0b-c45c-41e3-9cd1-33cc8dd4438a",
   "metadata": {},
   "outputs": [],
   "source": [
    "!pip install scipy"
   ]
  },
  {
   "cell_type": "code",
   "execution_count": null,
   "id": "f88f8ea8-6441-4062-8652-c5f59226d2d7",
   "metadata": {},
   "outputs": [],
   "source": [
    "from scipy import stats\n",
    "N = 100000\n",
    "# x = np.random.randn(N)\n",
    "x = stats.norm.rvs(size=N)\n",
    "num_bins = 20\n",
    "plt.hist(x, bins=num_bins, facecolor='blue', alpha=0.5)\n",
    "\n",
    "y = np.linspace(-4, 4, 1000)\n",
    "bin_width = (x.max() - x.min()) / num_bins\n",
    "plt.plot(y, stats.norm.pdf(y) * N * bin_width)\n",
    "\n",
    "plt.show()"
   ]
  },
  {
   "cell_type": "code",
   "execution_count": null,
   "id": "91423383-87a0-4593-baa6-5e2f6365fe23",
   "metadata": {},
   "outputs": [],
   "source": [
    "# Create a normal distribution probability density function (PDF) with mean 100,\n",
    "# standard deviation 15 and running from 45 to 155. It will consist of 1,000\n",
    "# points to ensure it looks smooth when plotted.\n",
    "x = np.linspace(45, 155, 1000)\n",
    "mu, sigma = 100, 15\n",
    "normal_pdf = stats.norm.pdf(x, loc=mu, scale=sigma)"
   ]
  },
  {
   "cell_type": "code",
   "execution_count": null,
   "id": "d4f48b1c-5da9-4938-b87a-691cdd15e7db",
   "metadata": {},
   "outputs": [],
   "source": [
    "# Plot\n",
    "ax = plt.axes()\n",
    "ax.plot(x, normal_pdf)\n",
    "ax.set_title('Probability Density Function of a Normal Distribution')"
   ]
  },
  {
   "cell_type": "code",
   "execution_count": null,
   "id": "a812fe60-f029-49a9-b1ba-0f5cbd349a8e",
   "metadata": {},
   "outputs": [],
   "source": []
  }
 ],
 "metadata": {
  "kernelspec": {
   "display_name": "Python 3 (ipykernel)",
   "language": "python",
   "name": "python3"
  },
  "language_info": {
   "codemirror_mode": {
    "name": "ipython",
    "version": 3
   },
   "file_extension": ".py",
   "mimetype": "text/x-python",
   "name": "python",
   "nbconvert_exporter": "python",
   "pygments_lexer": "ipython3",
   "version": "3.10.8"
  }
 },
 "nbformat": 4,
 "nbformat_minor": 5
}
