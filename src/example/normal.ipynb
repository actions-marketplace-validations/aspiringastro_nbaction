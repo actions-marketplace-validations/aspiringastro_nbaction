{
 "cells": [
  {
   "cell_type": "code",
   "execution_count": null,
   "id": "8737bad2-ce24-4658-a55b-8dc2610aacc0",
   "metadata": {},
   "outputs": [],
   "source": [
    "# Scientific and vector computation for python\n",
    "import numpy as np\n",
    "\n",
    "# data analysis and manipulation tool for python\n",
    "import pandas as pd\n",
    "\n",
    "# Plotting library\n",
    "import matplotlib.pyplot as plt\n",
    "\n",
    "# tells matplotlib to embed plots within the notebook\n",
    "%matplotlib inline"
   ]
  },
  {
   "cell_type": "code",
   "execution_count": null,
   "id": "4c9e7c0b-c45c-41e3-9cd1-33cc8dd4438a",
   "metadata": {},
   "outputs": [],
   "source": [
    "!pip install scipy"
   ]
  },
  {
   "cell_type": "code",
   "execution_count": null,
   "id": "f88f8ea8-6441-4062-8652-c5f59226d2d7",
   "metadata": {},
   "outputs": [],
   "source": [
    "from scipy import stats\n",
    "N = 100000\n",
    "# x = np.random.randn(N)\n",
    "x = stats.norm.rvs(size=N)\n",
    "num_bins = 20\n",
    "plt.hist(x, bins=num_bins, facecolor='blue', alpha=0.5)\n",
    "\n",
    "y = np.linspace(-4, 4, 1000)\n",
    "bin_width = (x.max() - x.min()) / num_bins\n",
    "plt.plot(y, stats.norm.pdf(y) * N * bin_width)\n",
    "\n",
    "plt.show()"
   ]
  },
  {
   "cell_type": "code",
   "execution_count": null,
   "id": "b07dff9b-48f2-4fea-b7c2-e4fe75de458b",
   "metadata": {},
   "outputs": [],
   "source": []
  }
 ],
 "metadata": {
  "kernelspec": {
   "display_name": "Python 3 (ipykernel)",
   "language": "python",
   "name": "python3"
  },
  "language_info": {
   "codemirror_mode": {
    "name": "ipython",
    "version": 3
   },
   "file_extension": ".py",
   "mimetype": "text/x-python",
   "name": "python",
   "nbconvert_exporter": "python",
   "pygments_lexer": "ipython3",
   "version": "3.10.8"
  }
 },
 "nbformat": 4,
 "nbformat_minor": 5
}
