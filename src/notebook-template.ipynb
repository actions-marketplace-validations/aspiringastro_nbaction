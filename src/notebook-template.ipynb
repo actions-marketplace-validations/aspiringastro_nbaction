{
 "cells": [
  {
   "cell_type": "code",
   "execution_count": null,
   "id": "2fb35cc4-eea5-4ce6-8bdc-b9ba0c8b17fe",
   "metadata": {},
   "outputs": [],
   "source": [
    "# Scientific and vector computation for python\n",
    "import numpy as np\n",
    "\n",
    "# data analysis and manipulation tool for python\n",
    "import pandas as pd\n",
    "\n",
    "# Plotting library\n",
    "import matplotlib.pyplot as plt\n",
    "\n",
    "# tells matplotlib to embed plots within the notebook\n",
    "%matplotlib inline"
   ]
  },
  {
   "cell_type": "code",
   "execution_count": null,
   "id": "f80326b1-d794-4487-ad6f-d3d950699dbb",
   "metadata": {},
   "outputs": [],
   "source": [
    "N = 500000\n",
    "mu = 0.0\n",
    "sigma = 1.0\n",
    "X = np.random.normal(loc=mu, scale=sigma, size=N)\n",
    "plt.axis([-6, 6, 0, 0.45])\n",
    "_,_,_ = plt.hist(X, 50, normed=True)"
   ]
  },
  {
   "cell_type": "code",
   "execution_count": null,
   "id": "40bdb1ff-3fb7-442a-ae29-116544e4c728",
   "metadata": {},
   "outputs": [],
   "source": []
  }
 ],
 "metadata": {
  "kernelspec": {
   "display_name": "Python 3 (ipykernel)",
   "language": "python",
   "name": "python3"
  },
  "language_info": {
   "codemirror_mode": {
    "name": "ipython",
    "version": 3
   },
   "file_extension": ".py",
   "mimetype": "text/x-python",
   "name": "python",
   "nbconvert_exporter": "python",
   "pygments_lexer": "ipython3",
   "version": "3.10.8"
  },
  "vscode": {
   "interpreter": {
    "hash": "aee8b7b246df8f9039afb4144a1f6fd8d2ca17a180786b69acc140d282b71a49"
   }
  }
 },
 "nbformat": 4,
 "nbformat_minor": 5
}
